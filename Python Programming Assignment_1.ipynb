{
 "cells": [
  {
   "cell_type": "markdown",
   "metadata": {},
   "source": [
    "## Python Programming Assignment_1"
   ]
  },
  {
   "cell_type": "code",
   "execution_count": 1,
   "metadata": {},
   "outputs": [
    {
     "name": "stdout",
     "output_type": "stream",
     "text": [
      "Hello Python\n"
     ]
    }
   ],
   "source": [
    "#Q1. Write a Python program to print \"Hello Python\"?\n",
    "print(\"Hello Python\")"
   ]
  },
  {
   "cell_type": "code",
   "execution_count": 2,
   "metadata": {},
   "outputs": [
    {
     "name": "stdout",
     "output_type": "stream",
     "text": [
      "Addition: 30\n",
      "Division: 2.0\n",
      "Subtraction: -10\n",
      "Multiplication: 200\n"
     ]
    }
   ],
   "source": [
    "#Q2. Write a Python program to do arithmetical operations addition and division.?\n",
    "a=10\n",
    "b=20\n",
    "add=(a+b)\n",
    "div=(b/a)\n",
    "sub=(a-b)\n",
    "mul=(a*b)\n",
    "print(f\"Addition: {add}\\nDivision: {div}\\nSubtraction: {sub}\\nMultiplication: {mul}\")"
   ]
  },
  {
   "cell_type": "code",
   "execution_count": 4,
   "metadata": {},
   "outputs": [
    {
     "name": "stdout",
     "output_type": "stream",
     "text": [
      "Area of a triangle is 192.13032686174247\n"
     ]
    }
   ],
   "source": [
    "#Q3. Write a Python program to find the area of a triangle?\n",
    "#sides of triangle a,b,c\n",
    "a=5\n",
    "b=10\n",
    "c=15\n",
    "side=a+b+c/2\n",
    "area = (side*(side-a)*(side-b)*(side-c))**0.5\n",
    "print(f\"Area of a triangle is {area}\")"
   ]
  },
  {
   "cell_type": "code",
   "execution_count": 5,
   "metadata": {},
   "outputs": [
    {
     "name": "stdout",
     "output_type": "stream",
     "text": [
      "Value of two avriables before swap: a=44,b=56\n",
      "Value of two avriables after swap: a=56,b=44\n"
     ]
    }
   ],
   "source": [
    "#Q4. Write a Python program to swap two variables?\n",
    "a=44\n",
    "b=56\n",
    "print(f\"Value of two avriables before swap: a={a},b={b}\")\n",
    "a,b=b,a\n",
    "print(f\"Value of two avriables after swap: a={a},b={b}\")"
   ]
  },
  {
   "cell_type": "code",
   "execution_count": 6,
   "metadata": {},
   "outputs": [
    {
     "name": "stdout",
     "output_type": "stream",
     "text": [
      "803\n"
     ]
    }
   ],
   "source": [
    "#Q5. Write a Python program to generate a random number?\n",
    "import random\n",
    "print(random.randint(0,1000))"
   ]
  },
  {
   "cell_type": "code",
   "execution_count": null,
   "metadata": {},
   "outputs": [],
   "source": []
  }
 ],
 "metadata": {
  "kernelspec": {
   "display_name": "Python 3",
   "language": "python",
   "name": "python3"
  },
  "language_info": {
   "codemirror_mode": {
    "name": "ipython",
    "version": 3
   },
   "file_extension": ".py",
   "mimetype": "text/x-python",
   "name": "python",
   "nbconvert_exporter": "python",
   "pygments_lexer": "ipython3",
   "version": "3.8.3"
  }
 },
 "nbformat": 4,
 "nbformat_minor": 4
}
