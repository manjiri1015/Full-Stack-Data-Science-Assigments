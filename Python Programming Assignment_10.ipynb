{
 "cells": [
  {
   "cell_type": "markdown",
   "metadata": {},
   "source": [
    "## Python Programming Assignment_10"
   ]
  },
  {
   "cell_type": "code",
   "execution_count": 1,
   "metadata": {},
   "outputs": [
    {
     "name": "stdout",
     "output_type": "stream",
     "text": [
      "Sum of elements in list is  57\n"
     ]
    }
   ],
   "source": [
    "#Q1. Write a Python program to find sum of elements in list?\n",
    "l=[1,2,3,4,6,8,10,23]\n",
    "sum=0\n",
    "for i in l:\n",
    "    sum+=i\n",
    "print(\"Sum of elements in list is \",sum)"
   ]
  },
  {
   "cell_type": "code",
   "execution_count": 2,
   "metadata": {},
   "outputs": [
    {
     "name": "stdout",
     "output_type": "stream",
     "text": [
      "multiplication of elements in list is  264960\n"
     ]
    }
   ],
   "source": [
    "#Q2. Write a Python program to Multiply all numbers in the list?\n",
    "l=[1,2,3,4,6,8,10,23]\n",
    "mul=1\n",
    "for i in l:\n",
    "    mul=mul*i\n",
    "print(\"multiplication of elements in list is \",mul)"
   ]
  },
  {
   "cell_type": "code",
   "execution_count": 3,
   "metadata": {},
   "outputs": [
    {
     "name": "stdout",
     "output_type": "stream",
     "text": [
      "smallest number in a list is  1\n"
     ]
    }
   ],
   "source": [
    "#Q3. Write a Python program to find smallest number in a list?\n",
    "l=[12,1,2,3,4,6,8,10,23]\n",
    "small=l[0]\n",
    "for i in l:\n",
    "    if(i<small):\n",
    "        small=i\n",
    "print(\"smallest number in a list is \",small)"
   ]
  },
  {
   "cell_type": "code",
   "execution_count": 5,
   "metadata": {},
   "outputs": [
    {
     "name": "stdout",
     "output_type": "stream",
     "text": [
      "largest number in a list is  23\n"
     ]
    }
   ],
   "source": [
    "#Q4. Write a Python program to find largest number in a list?\n",
    "l=[12,1,2,3,4,6,8,10,23]\n",
    "max=l[0]\n",
    "for i in l:\n",
    "    if(i>max):\n",
    "        max=i\n",
    "print(\"largest number in a list is \",max)"
   ]
  },
  {
   "cell_type": "code",
   "execution_count": 6,
   "metadata": {},
   "outputs": [
    {
     "name": "stdout",
     "output_type": "stream",
     "text": [
      "second largest number in a list is  12\n"
     ]
    }
   ],
   "source": [
    "#Q5. Write a Python program to find second largest number in a list?\n",
    "l=[12,1,2,3,4,6,8,10,23]\n",
    "max=l[0]\n",
    "second_max=l[0]\n",
    "for i in l:\n",
    "    if(i>max):\n",
    "        max=i\n",
    "for i in l:\n",
    "    if(i>second_max)and(i!=max):\n",
    "        second_max=i\n",
    "print(\"second largest number in a list is \",second_max)"
   ]
  },
  {
   "cell_type": "code",
   "execution_count": 7,
   "metadata": {},
   "outputs": [
    {
     "name": "stdout",
     "output_type": "stream",
     "text": [
      "Enter the value of N: 3\n",
      "[10, 12, 23]\n"
     ]
    }
   ],
   "source": [
    "#Q6. Write a Python program to find N largest elements from a list?\n",
    "l=[12,1,2,3,4,6,8,10,23]\n",
    "n = int(input(\"Enter the value of N: \"))\n",
    "l.sort()\n",
    "print(l[-n:])"
   ]
  },
  {
   "cell_type": "code",
   "execution_count": 8,
   "metadata": {},
   "outputs": [
    {
     "name": "stdout",
     "output_type": "stream",
     "text": [
      "50\n",
      "2\n",
      "10\n",
      "44\n",
      "88\n"
     ]
    }
   ],
   "source": [
    "#Q7. Write a Python program to print even numbers in a list?\n",
    "l=[3,50,2,5,7,10,23,44,88]\n",
    "for i in l:\n",
    "    if(i%2==0):\n",
    "        print(i)"
   ]
  },
  {
   "cell_type": "code",
   "execution_count": 9,
   "metadata": {},
   "outputs": [
    {
     "name": "stdout",
     "output_type": "stream",
     "text": [
      "3\n",
      "5\n",
      "7\n",
      "23\n"
     ]
    }
   ],
   "source": [
    "#Q8. Write a Python program to print odd numbers in a List?\n",
    "l=[3,50,2,5,7,10,23,44,88]\n",
    "for i in l:\n",
    "    if(i%2!=0):\n",
    "        print(i)"
   ]
  },
  {
   "cell_type": "code",
   "execution_count": 1,
   "metadata": {},
   "outputs": [
    {
     "name": "stdout",
     "output_type": "stream",
     "text": [
      "[87, 7, 56, 98, 1, 2, 45]\n"
     ]
    }
   ],
   "source": [
    "#Q9. Write a Python program to Remove empty List from List?\n",
    "list=[87,7,[],56,98,[],1,2,45,[]]\n",
    "list_1=[]\n",
    "for i in list:\n",
    "    if(i):\n",
    "        list_1.append(i)\n",
    "print(list_1)"
   ]
  },
  {
   "cell_type": "code",
   "execution_count": 2,
   "metadata": {},
   "outputs": [
    {
     "name": "stdout",
     "output_type": "stream",
     "text": [
      "Original list:  [87, 7, 56, 98, 1, 2, 45]\n",
      "List after copy: [87, 7, 56, 98, 1, 2, 45]\n"
     ]
    }
   ],
   "source": [
    "#Q10. Write a Python program to Cloning or Copying a list?\n",
    "l=[87, 7, 56, 98, 1, 2, 45]\n",
    "l1=l\n",
    "print(\"Original list: \",l)\n",
    "print(\"List after copy:\",l1)"
   ]
  },
  {
   "cell_type": "code",
   "execution_count": 3,
   "metadata": {},
   "outputs": [
    {
     "name": "stdout",
     "output_type": "stream",
     "text": [
      "2 occurred 7 times\n"
     ]
    }
   ],
   "source": [
    "#Q11. Write a Python program to Count occurrences of an element in a list?\n",
    "l=[1,2,3,2,45,2,67,2,78,2,6,2,4,2]\n",
    "count=0\n",
    "a=2\n",
    "for i in l:\n",
    "    if(i==a):\n",
    "        count+=1\n",
    "print(f\"{a} occurred {count} times\")"
   ]
  },
  {
   "cell_type": "code",
   "execution_count": null,
   "metadata": {},
   "outputs": [],
   "source": []
  }
 ],
 "metadata": {
  "kernelspec": {
   "display_name": "Python 3",
   "language": "python",
   "name": "python3"
  },
  "language_info": {
   "codemirror_mode": {
    "name": "ipython",
    "version": 3
   },
   "file_extension": ".py",
   "mimetype": "text/x-python",
   "name": "python",
   "nbconvert_exporter": "python",
   "pygments_lexer": "ipython3",
   "version": "3.8.3"
  }
 },
 "nbformat": 4,
 "nbformat_minor": 4
}
