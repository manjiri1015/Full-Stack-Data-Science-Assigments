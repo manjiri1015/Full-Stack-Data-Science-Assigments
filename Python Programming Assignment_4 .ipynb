{
 "cells": [
  {
   "cell_type": "markdown",
   "metadata": {},
   "source": [
    "## Python Programming Assignment_4 "
   ]
  },
  {
   "cell_type": "code",
   "execution_count": 1,
   "metadata": {},
   "outputs": [
    {
     "name": "stdout",
     "output_type": "stream",
     "text": [
      "Enter a Number: 5\n",
      "Factorial of number 5 is 120\n"
     ]
    }
   ],
   "source": [
    "#Q1. Write a Python Program to Find the Factorial of a Number?\n",
    "fact=1\n",
    "num= int(input(\"Enter a Number: \"))\n",
    "if(num>0):\n",
    "    for i in range(1,num+1):\n",
    "        fact=fact*i\n",
    "    print(f\"Factorial of number {num} is {fact}\")\n",
    "elif(num==0):\n",
    "    print(f\"Factorial of number 0 is 1\")\n",
    "else:\n",
    "    print(\"Factorial does not exist\")"
   ]
  },
  {
   "cell_type": "code",
   "execution_count": 2,
   "metadata": {},
   "outputs": [
    {
     "name": "stdout",
     "output_type": "stream",
     "text": [
      "Enter a number: 24\n",
      "24 x 1 = 24\n",
      "24 x 2 = 48\n",
      "24 x 3 = 72\n",
      "24 x 4 = 96\n",
      "24 x 5 = 120\n",
      "24 x 6 = 144\n",
      "24 x 7 = 168\n",
      "24 x 8 = 192\n",
      "24 x 9 = 216\n",
      "24 x 10 = 240\n"
     ]
    }
   ],
   "source": [
    "#Q2. Write a Python Program to Display the multiplication Table?\n",
    "num=int(input(\"Enter a number: \"))\n",
    "for i in range(1, 11):\n",
    "    print(num, 'x', i, '=', num*i)"
   ]
  },
  {
   "cell_type": "code",
   "execution_count": 3,
   "metadata": {},
   "outputs": [
    {
     "name": "stdout",
     "output_type": "stream",
     "text": [
      "Enter the terms10\n",
      "0 1, 1, 2, 3, 5, 8, 13, 21, 34, "
     ]
    }
   ],
   "source": [
    "#Q3. Write a Python Program to Print the Fibonacci sequence?\n",
    "a=int(input(\"Enter the terms\"))\n",
    "first=0                                         \n",
    "second=1\n",
    "if a<=0:\n",
    "    print(\"The requested series is\",f)\n",
    "else:\n",
    "    print(first,second,end=\", \")\n",
    "    for x in range(2,a):\n",
    "        next=first+second                           \n",
    "        print(next,end=\", \")\n",
    "        first=second\n",
    "        second=next"
   ]
  },
  {
   "cell_type": "code",
   "execution_count": 4,
   "metadata": {},
   "outputs": [
    {
     "name": "stdout",
     "output_type": "stream",
     "text": [
      "Enter a number: 153\n",
      "153 is an Armstrong number\n"
     ]
    }
   ],
   "source": [
    "#Q4. Write a Python Program to Check Armstrong Number?\n",
    "num = int(input(\"Enter a number: \"))\n",
    "sum = 0\n",
    "temp = num\n",
    "while temp > 0:\n",
    "    digit = temp % 10\n",
    "    sum += digit ** 3\n",
    "    temp //= 10\n",
    "if num == sum:\n",
    "    print(num,\"is an Armstrong number\")\n",
    "else:\n",
    "    print(num,\"is not an Armstrong number\")"
   ]
  },
  {
   "cell_type": "code",
   "execution_count": 5,
   "metadata": {},
   "outputs": [
    {
     "name": "stdout",
     "output_type": "stream",
     "text": [
      "Enter lower limt number: 10\n",
      "Enter upper limt number: 4000\n",
      "Armstrong numbers are:  153\n",
      "Armstrong numbers are:  370\n",
      "Armstrong numbers are:  371\n",
      "Armstrong numbers are:  407\n",
      "Armstrong numbers are:  1634\n"
     ]
    }
   ],
   "source": [
    "#Q5. Write a Python Program to Find Armstrong Number in an Interval?\n",
    "lower=int(input(\"Enter lower limt number: \"))\n",
    "upper=int(input(\"Enter upper limt number: \"))\n",
    "for i in range(lower,upper+1):\n",
    "    pow=len(str(i))\n",
    "    sum = 0\n",
    "    temp = i\n",
    "    while temp > 0:\n",
    "        digit = temp % 10\n",
    "        sum += digit ** pow\n",
    "        temp //= 10\n",
    "    if(i==sum):\n",
    "        print(\"Armstrong numbers are: \",i)"
   ]
  },
  {
   "cell_type": "code",
   "execution_count": 6,
   "metadata": {},
   "outputs": [
    {
     "name": "stdout",
     "output_type": "stream",
     "text": [
      "8\n",
      "Sum of Natural Numbers is:  36.0\n"
     ]
    }
   ],
   "source": [
    "#Q6. Write a Python Program to Find the Sum of Natural Numbers?\n",
    "n=int(input())\n",
    "if(num>0):\n",
    "    sum=(n*(n+1))/2\n",
    "    print(\"Sum of Natural Numbers is: \",sum)\n",
    "else:\n",
    "    print(\"Enter a valid Number\")"
   ]
  },
  {
   "cell_type": "code",
   "execution_count": null,
   "metadata": {},
   "outputs": [],
   "source": []
  }
 ],
 "metadata": {
  "kernelspec": {
   "display_name": "Python 3",
   "language": "python",
   "name": "python3"
  },
  "language_info": {
   "codemirror_mode": {
    "name": "ipython",
    "version": 3
   },
   "file_extension": ".py",
   "mimetype": "text/x-python",
   "name": "python",
   "nbconvert_exporter": "python",
   "pygments_lexer": "ipython3",
   "version": "3.8.3"
  }
 },
 "nbformat": 4,
 "nbformat_minor": 4
}
